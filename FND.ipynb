{
 "cells": [
  {
   "cell_type": "markdown",
   "id": "d35ab30f-38e2-4420-ad40-0978a9937b0c",
   "metadata": {},
   "source": [
    "# Leveraging Machine Learning to Combat Fake News: A Multi-Classifier Approach for Social Media News Verification"
   ]
  },
  {
   "cell_type": "markdown",
   "id": "2775bee6-9af0-40aa-bf30-9d40b8d02d29",
   "metadata": {},
   "source": [
    "## Table of Contents\n",
    "\n",
    "- [1. Introduction](#Introduction)\n",
    "- [2. Importing Libraries](#Importing-Libraries)\n",
    "- [3. Loading Dataset](#Loading-Dataset)\n",
    "- [4. Data Cleaning and Feature Engineering](#Data-Cleaning-and-Feature-Engineering)\n",
    "- [5. EDA](#EDA)\n",
    "   - [5.1 Preprocessing](#Preprocessing)\n",
    "   - [5.2 Analysis of News Title](#Analysis-of-News-Title)\n",
    "      - [5.2.1 Fake News](#Fake-News)\n",
    "      - [5.2.2 Real News](#Real-News)\n",
    "      - [5.2.3 Concatenation and Visualization](#Concatenation-and-Visualization)\n",
    "   - [5.3 Analysis of News Body](#Analysis-of-News-Body)\n",
    "      - [5.3.1 Fake News](#Fake-News)\n",
    "      - [5.3.2 Real News](#Real-News)\n",
    "      - [5.3.3 Concatenation and Visualization](#Concatenation-and-Visualization)\n",
    "   - [5.4 Analysis of Title Length](#Analysis-of-Title-Length)\n",
    "- [6. Fake/Real News Classification](#Fake/Real-News-Classification)\n",
    "   - [6.1 Fake/Real News Detection Based on News Body](#Fake/Real-News-Detection-Based-on-News-Body)\n",
    "       - [6.1.1 Splitting Data into Train and Test Datasets](#Splitting-Data-into-Train-and-Test-Datasets)\n",
    "       - [6.1.2 Support Vector Machine](#Support-Vector-Machine)\n",
    "       - [6.1.3 Naive Bayes Classifiers](#Naive-Bayes-Classifiers) \n",
    "       - [6.1.4 Random Forest Classifier](#Random-Forest-Classifier)\n",
    "       - [6.1.5 Passive-Aggressive Classifiers](#Passive-Aggressive-Classifiers)\n",
    "       - [6.1.6 Evaluation](#Evaluation)\n",
    "   - [6.2 Fake/Real News Detection Based on News Title](#Fake/Real-News-Detection-Based-on-News-Title)\n",
    "       - [6.2.1 Splitting Data into Train and Test Datasets](#Splitting-Data-into-Train-and-Test-Datasets)\n",
    "       - [6.2.2 Support Vector Machine](#Support-Vector-Machine)\n",
    "       - [6.2.3 Naive Bayes Classifiers](#Naive-Bayes-Classifiers) \n",
    "       - [6.2.4 Random Forest Classifier](#Random-Forest-Classifier)\n",
    "       - [6.2.5 Passive-Aggressive Classifiers](#Passive-Aggressive-Classifiers)\n",
    "       - [6.2.6 Evaluation](#Evaluation)\n",
    "   - [6.3 Fake/Real News Detection Based on Both Body and Title of News](#Fake/Real-News-Detection-Based-on-Both-Body-and-Title-of-News)\n",
    "       - [6.3.1 Splitting Data into Train and Test Datasets](#Splitting-Data-into-Train-and-Test-Datasets)\n",
    "       - [6.3.2 Support Vector Machine](#Support-Vector-Machine)\n",
    "       - [6.3.3 Naive Bayes Classifiers](#Naive-Bayes-Classifiers) \n",
    "       - [6.3.4 Random Forest Classifier](#Random-Forest-Classifier)\n",
    "       - [6.3.5 Passive-Aggressive Classifiers](#Passive-Aggressive-Classifiers)\n",
    "       - [6.3.6 Evaluation](#Evaluation)\n",
    "- [7. Conclusion](#Conclusion)\n",
    "   - [7.1 Exploratory Data Analysis (EDA) Insights](#Exploratory-Data-Analysis-(EDA)-Insights)\n",
    "   - [7.2 Machine Learning Classification Performance](#Machine-Learning-Classification-Performance)\n",
    "   - [7.3 Implications and Future Directions](#Implications-and-Future-Directions)\n",
    "- [8. References](#Reference)\n"
   ]
  },
  {
   "cell_type": "markdown",
   "id": "f9545faa-43d3-4784-bf6a-2dbf07f6406f",
   "metadata": {},
   "source": [
    "## Introduction"
   ]
  },
  {
   "cell_type": "markdown",
   "id": "d49cff8f-831f-48a2-ad21-377edabaf0ed",
   "metadata": {},
   "source": [
    "FakenewsNet is a key resource for a research project at ASU that focuses on studying fake news. The dataset includes information from Buzzfeed news and Politifact, containing both real and fake news articles. This dataset offers various perspectives, helping with fake news detection and understanding how fake news spreads. The main focus of this project is the Buzzfeed news dataset.\n",
    "\n",
    "The dataset from Buzzfeed news consists of a thorough representation of news articles shared on Facebook by nine news agencies during a week close to the 2016 U.S. election. This timeframe includes September 19 to 23 and September 26 to 27. To ensure accuracy, every post and its corresponding article underwent a rigorous fact-checking process conducted by five BuzzFeed journalists. The dataset is divided into two distinct collections: one containing fake news articles and the other containing real news articles. Both collections are presented in CSV format and consist of 91 observations with 12 features or variables.\n",
    "\n",
    "The dataset used in this analysis created by Kai Shu, Deepak Mahudeswaran, Suhang Wang, Dongwon Lee, and Huan Liu.\n",
    "\n",
    "- **Creator**: Kai Shu, Deepak Mahudeswaran, Suhang Wang, Dongwon Lee, Huan Liu\n",
    "- **Copyright**: © 2019 Arizona Board of Regents on Behalf of ASU\n",
    "- **License**: [Creative Commons License (CC BY 4.0)](https://creativecommons.org/licenses/by/4.0/)\n",
    "- **Disclaimer**: We will never ask for money to share the datasets. If someone claims that s/he has the all the raw data and wants a payment, please be careful. \n",
    "\n",
    "You can access the dataset [here](https://www.kaggle.com/datasets/mdepak/fakenewsnet/data) or on the GitHub repository [here](https://github.com/KaiDMML/FakeNewsNet).\n",
    "\n",
    "This project is divided into two main components: Exploratory Data Analysis (EDA) and Fake/Real News Classification. In EDA, the focus is on analyzing news titles and bodies, and investigating title length distributions to gain insights into fake and real news characteristics. The Classification part involves applying various machine learning algorithms to classify news articles based on their bodies, titles, and a combination of both, and assessing their performance. The ultimate goal is to understand the nuances of fake news and develop effective classification models to distinguish between fake and real news articles.\n",
    "\n",
    "**Key features of the Buzzfeed news dataset include:**\n",
    "\n",
    "- **id:** An identifier assigned to each news article webpage, denoting whether the article is classified as real or fake.\n",
    "- **title:** The headline of the article, crafted to capture readers' attention and closely related to the main topic of the news.\n",
    "- **text:** The body of the article, providing detailed elaboration on the news story. Typically, this section highlights a central claim that shapes the publisher's perspective and is expounded upon."
   ]
  },
  {
   "cell_type": "markdown",
   "id": "42acd5c7-3c04-44d7-89b2-dbad5404c5c3",
   "metadata": {},
   "source": [
    "## Importing Libraries"
   ]
  },
  {
   "cell_type": "code",
   "execution_count": 8,
   "id": "5abd75bf-718d-4f92-9055-5be12b1e943e",
   "metadata": {},
   "outputs": [],
   "source": [
    "import numpy as np\n",
    "import pandas as pd\n",
    "import seaborn as sns\n",
    "import matplotlib.pyplot as plt\n",
    "%matplotlib inline\n",
    "from nltk.stem.porter import PorterStemmer\n",
    "from nltk.tokenize import WhitespaceTokenizer \n",
    "from nltk.corpus import stopwords\n",
    "import string\n",
    "import re\n",
    "from sklearn.feature_extraction.text import CountVectorizer\n",
    "from sklearn.svm import SVC\n",
    "from sklearn.naive_bayes import MultinomialNB\n",
    "from sklearn.ensemble import RandomForestClassifier\n",
    "from sklearn.linear_model import PassiveAggressiveClassifier\n",
    "from sklearn.model_selection import train_test_split\n",
    "from sklearn.metrics import classification_report,confusion_matrix, accuracy_score, precision_score, recall_score, f1_score"
   ]
  },
  {
   "cell_type": "markdown",
   "id": "7fa14e64-431f-44f9-9a2e-30c684065f15",
   "metadata": {},
   "source": [
    "## Loading Dataset"
   ]
  },
  {
   "cell_type": "code",
   "execution_count": 10,
   "id": "3e63f18a-934b-443a-83cc-e0dc8e6beb45",
   "metadata": {},
   "outputs": [],
   "source": [
    "df_real = pd.read_csv('BuzzFeed_real_news_content.csv')"
   ]
  },
  {
   "cell_type": "code",
   "execution_count": 11,
   "id": "b19d2851-cb59-42c9-b065-ed0d77fb0f37",
   "metadata": {},
   "outputs": [
    {
     "data": {
      "text/plain": [
       "(91, 12)"
      ]
     },
     "execution_count": 11,
     "metadata": {},
     "output_type": "execute_result"
    }
   ],
   "source": [
    "df_real.shape"
   ]
  },
  {
   "cell_type": "code",
   "execution_count": 12,
   "id": "43ff017e-74c8-4a90-abf6-2d387c924ba4",
   "metadata": {},
   "outputs": [],
   "source": [
    "df_fake = pd.read_csv('BuzzFeed_fake_news_content.csv')"
   ]
  },
  {
   "cell_type": "code",
   "execution_count": 13,
   "id": "037ae713-2673-48ab-92d0-1cc12212b50d",
   "metadata": {},
   "outputs": [
    {
     "data": {
      "text/plain": [
       "(91, 12)"
      ]
     },
     "execution_count": 13,
     "metadata": {},
     "output_type": "execute_result"
    }
   ],
   "source": [
    "df_fake.shape"
   ]
  },
  {
   "cell_type": "markdown",
   "id": "6d869906-7710-4d02-bdbf-43cf672ffb2f",
   "metadata": {},
   "source": [
    "## Data Cleaning and Feature Engineering"
   ]
  },
  {
   "cell_type": "markdown",
   "id": "d76d2d2f-666e-4b50-ae06-32ae07b35f2f",
   "metadata": {},
   "source": [
    "First, we need to combine these two dataframes into a single dataframe and create a new variable type which contains the news type as real or fake."
   ]
  },
  {
   "cell_type": "code",
   "execution_count": 16,
   "id": "d6469aab-3101-404f-ac26-f266f8e6e4f3",
   "metadata": {},
   "outputs": [],
   "source": [
    "df=pd.concat([df_real,df_fake],axis=0)"
   ]
  },
  {
   "cell_type": "code",
   "execution_count": 17,
   "id": "3c2b36e4-ab42-4022-b68d-58e3eaacd27c",
   "metadata": {},
   "outputs": [
    {
     "data": {
      "text/plain": [
       "(182, 12)"
      ]
     },
     "execution_count": 17,
     "metadata": {},
     "output_type": "execute_result"
    }
   ],
   "source": [
    "df.shape"
   ]
  },
  {
   "cell_type": "code",
   "execution_count": 18,
   "id": "a4efeae2-2336-47d4-924e-060394dbdbc4",
   "metadata": {},
   "outputs": [],
   "source": [
    "# https://stackoverflow.com/questions/45292833/using-split-function-on-a-pandas-dataframe solution found here\n",
    "df['news_type']=df['id'].apply(lambda x: x.split('_')[0])"
   ]
  },
  {
   "cell_type": "code",
   "execution_count": 19,
   "id": "98c99e17-b4bd-4ecf-a213-8d440593c0df",
   "metadata": {},
   "outputs": [
    {
     "data": {
      "text/html": [
       "<div>\n",
       "<style scoped>\n",
       "    .dataframe tbody tr th:only-of-type {\n",
       "        vertical-align: middle;\n",
       "    }\n",
       "\n",
       "    .dataframe tbody tr th {\n",
       "        vertical-align: top;\n",
       "    }\n",
       "\n",
       "    .dataframe thead th {\n",
       "        text-align: right;\n",
       "    }\n",
       "</style>\n",
       "<table border=\"1\" class=\"dataframe\">\n",
       "  <thead>\n",
       "    <tr style=\"text-align: right;\">\n",
       "      <th></th>\n",
       "      <th>id</th>\n",
       "      <th>title</th>\n",
       "      <th>text</th>\n",
       "      <th>url</th>\n",
       "      <th>top_img</th>\n",
       "      <th>authors</th>\n",
       "      <th>source</th>\n",
       "      <th>publish_date</th>\n",
       "      <th>movies</th>\n",
       "      <th>images</th>\n",
       "      <th>canonical_link</th>\n",
       "      <th>meta_data</th>\n",
       "      <th>news_type</th>\n",
       "    </tr>\n",
       "  </thead>\n",
       "  <tbody>\n",
       "    <tr>\n",
       "      <th>0</th>\n",
       "      <td>Real_1-Webpage</td>\n",
       "      <td>Another Terrorist Attack in NYC…Why Are we STI...</td>\n",
       "      <td>On Saturday, September 17 at 8:30 pm EST, an e...</td>\n",
       "      <td>http://eaglerising.com/36942/another-terrorist...</td>\n",
       "      <td>http://eaglerising.com/wp-content/uploads/2016...</td>\n",
       "      <td>View All Posts,Leonora Cravotta</td>\n",
       "      <td>http://eaglerising.com</td>\n",
       "      <td>{'$date': 1474528230000}</td>\n",
       "      <td>NaN</td>\n",
       "      <td>http://constitution.com/wp-content/uploads/201...</td>\n",
       "      <td>http://eaglerising.com/36942/another-terrorist...</td>\n",
       "      <td>{\"description\": \"\\u201cWe believe at this poin...</td>\n",
       "      <td>Real</td>\n",
       "    </tr>\n",
       "    <tr>\n",
       "      <th>1</th>\n",
       "      <td>Real_10-Webpage</td>\n",
       "      <td>Donald Trump: Drugs a 'Very, Very Big Factor' ...</td>\n",
       "      <td>Less than a day after protests over the police...</td>\n",
       "      <td>http://abcn.ws/2d4lNn9</td>\n",
       "      <td>http://a.abcnews.com/images/Politics/AP_donald...</td>\n",
       "      <td>More Candace,Adam Kelsey,Abc News,More Adam</td>\n",
       "      <td>http://abcn.ws</td>\n",
       "      <td>NaN</td>\n",
       "      <td>NaN</td>\n",
       "      <td>http://www.googleadservices.com/pagead/convers...</td>\n",
       "      <td>http://abcnews.go.com/Politics/donald-trump-dr...</td>\n",
       "      <td>{\"fb_title\": \"Trump: Drugs a 'Very, Very Big F...</td>\n",
       "      <td>Real</td>\n",
       "    </tr>\n",
       "    <tr>\n",
       "      <th>2</th>\n",
       "      <td>Real_11-Webpage</td>\n",
       "      <td>Obama To UN: ‘Giving Up Liberty, Enhances Secu...</td>\n",
       "      <td>Obama To UN: ‘Giving Up Liberty, Enhances Secu...</td>\n",
       "      <td>http://rightwingnews.com/barack-obama/obama-un...</td>\n",
       "      <td>http://rightwingnews.com/wp-content/uploads/20...</td>\n",
       "      <td>Cassy Fiano</td>\n",
       "      <td>http://rightwingnews.com</td>\n",
       "      <td>{'$date': 1474476044000}</td>\n",
       "      <td>https://www.youtube.com/embed/ji6pl5Vwrvk</td>\n",
       "      <td>http://rightwingnews.com/wp-content/uploads/20...</td>\n",
       "      <td>http://rightwingnews.com/barack-obama/obama-un...</td>\n",
       "      <td>{\"googlebot\": \"noimageindex\", \"og\": {\"site_nam...</td>\n",
       "      <td>Real</td>\n",
       "    </tr>\n",
       "  </tbody>\n",
       "</table>\n",
       "</div>"
      ],
      "text/plain": [
       "                id                                              title  \\\n",
       "0   Real_1-Webpage  Another Terrorist Attack in NYC…Why Are we STI...   \n",
       "1  Real_10-Webpage  Donald Trump: Drugs a 'Very, Very Big Factor' ...   \n",
       "2  Real_11-Webpage  Obama To UN: ‘Giving Up Liberty, Enhances Secu...   \n",
       "\n",
       "                                                text  \\\n",
       "0  On Saturday, September 17 at 8:30 pm EST, an e...   \n",
       "1  Less than a day after protests over the police...   \n",
       "2  Obama To UN: ‘Giving Up Liberty, Enhances Secu...   \n",
       "\n",
       "                                                 url  \\\n",
       "0  http://eaglerising.com/36942/another-terrorist...   \n",
       "1                             http://abcn.ws/2d4lNn9   \n",
       "2  http://rightwingnews.com/barack-obama/obama-un...   \n",
       "\n",
       "                                             top_img  \\\n",
       "0  http://eaglerising.com/wp-content/uploads/2016...   \n",
       "1  http://a.abcnews.com/images/Politics/AP_donald...   \n",
       "2  http://rightwingnews.com/wp-content/uploads/20...   \n",
       "\n",
       "                                       authors                    source  \\\n",
       "0              View All Posts,Leonora Cravotta    http://eaglerising.com   \n",
       "1  More Candace,Adam Kelsey,Abc News,More Adam            http://abcn.ws   \n",
       "2                                  Cassy Fiano  http://rightwingnews.com   \n",
       "\n",
       "               publish_date                                     movies  \\\n",
       "0  {'$date': 1474528230000}                                        NaN   \n",
       "1                       NaN                                        NaN   \n",
       "2  {'$date': 1474476044000}  https://www.youtube.com/embed/ji6pl5Vwrvk   \n",
       "\n",
       "                                              images  \\\n",
       "0  http://constitution.com/wp-content/uploads/201...   \n",
       "1  http://www.googleadservices.com/pagead/convers...   \n",
       "2  http://rightwingnews.com/wp-content/uploads/20...   \n",
       "\n",
       "                                      canonical_link  \\\n",
       "0  http://eaglerising.com/36942/another-terrorist...   \n",
       "1  http://abcnews.go.com/Politics/donald-trump-dr...   \n",
       "2  http://rightwingnews.com/barack-obama/obama-un...   \n",
       "\n",
       "                                           meta_data news_type  \n",
       "0  {\"description\": \"\\u201cWe believe at this poin...      Real  \n",
       "1  {\"fb_title\": \"Trump: Drugs a 'Very, Very Big F...      Real  \n",
       "2  {\"googlebot\": \"noimageindex\", \"og\": {\"site_nam...      Real  "
      ]
     },
     "execution_count": 19,
     "metadata": {},
     "output_type": "execute_result"
    }
   ],
   "source": [
    "df.head(3)"
   ]
  },
  {
   "cell_type": "code",
   "execution_count": 20,
   "id": "367a41c7-a5bd-4bb8-a3f6-b8d0a0dae981",
   "metadata": {},
   "outputs": [
    {
     "data": {
      "text/plain": [
       "(182, 13)"
      ]
     },
     "execution_count": 20,
     "metadata": {},
     "output_type": "execute_result"
    }
   ],
   "source": [
    "df.shape"
   ]
  },
  {
   "cell_type": "code",
   "execution_count": 21,
   "id": "f3b82c20-0a45-4c81-9ce6-923de1eaab44",
   "metadata": {},
   "outputs": [
    {
     "name": "stdout",
     "output_type": "stream",
     "text": [
      "<class 'pandas.core.frame.DataFrame'>\n",
      "Index: 182 entries, 0 to 90\n",
      "Data columns (total 13 columns):\n",
      " #   Column          Non-Null Count  Dtype \n",
      "---  ------          --------------  ----- \n",
      " 0   id              182 non-null    object\n",
      " 1   title           182 non-null    object\n",
      " 2   text            182 non-null    object\n",
      " 3   url             174 non-null    object\n",
      " 4   top_img         172 non-null    object\n",
      " 5   authors         141 non-null    object\n",
      " 6   source          174 non-null    object\n",
      " 7   publish_date    133 non-null    object\n",
      " 8   movies          25 non-null     object\n",
      " 9   images          172 non-null    object\n",
      " 10  canonical_link  170 non-null    object\n",
      " 11  meta_data       182 non-null    object\n",
      " 12  news_type       182 non-null    object\n",
      "dtypes: object(13)\n",
      "memory usage: 19.9+ KB\n"
     ]
    }
   ],
   "source": [
    "df.info()"
   ]
  },
  {
   "cell_type": "code",
   "execution_count": 22,
   "id": "0a1085b3-1262-4e4a-a76a-99cee0c2191c",
   "metadata": {},
   "outputs": [
    {
     "data": {
      "text/html": [
       "<div>\n",
       "<style scoped>\n",
       "    .dataframe tbody tr th:only-of-type {\n",
       "        vertical-align: middle;\n",
       "    }\n",
       "\n",
       "    .dataframe tbody tr th {\n",
       "        vertical-align: top;\n",
       "    }\n",
       "\n",
       "    .dataframe thead th {\n",
       "        text-align: right;\n",
       "    }\n",
       "</style>\n",
       "<table border=\"1\" class=\"dataframe\">\n",
       "  <thead>\n",
       "    <tr style=\"text-align: right;\">\n",
       "      <th></th>\n",
       "      <th>id</th>\n",
       "      <th>title</th>\n",
       "      <th>text</th>\n",
       "      <th>url</th>\n",
       "      <th>top_img</th>\n",
       "      <th>authors</th>\n",
       "      <th>source</th>\n",
       "      <th>publish_date</th>\n",
       "      <th>movies</th>\n",
       "      <th>images</th>\n",
       "      <th>canonical_link</th>\n",
       "      <th>meta_data</th>\n",
       "      <th>news_type</th>\n",
       "    </tr>\n",
       "  </thead>\n",
       "  <tbody>\n",
       "    <tr>\n",
       "      <th>count</th>\n",
       "      <td>182</td>\n",
       "      <td>182</td>\n",
       "      <td>182</td>\n",
       "      <td>174</td>\n",
       "      <td>172</td>\n",
       "      <td>141</td>\n",
       "      <td>174</td>\n",
       "      <td>133</td>\n",
       "      <td>25</td>\n",
       "      <td>172</td>\n",
       "      <td>170</td>\n",
       "      <td>182</td>\n",
       "      <td>182</td>\n",
       "    </tr>\n",
       "    <tr>\n",
       "      <th>unique</th>\n",
       "      <td>182</td>\n",
       "      <td>178</td>\n",
       "      <td>178</td>\n",
       "      <td>171</td>\n",
       "      <td>166</td>\n",
       "      <td>90</td>\n",
       "      <td>28</td>\n",
       "      <td>118</td>\n",
       "      <td>25</td>\n",
       "      <td>169</td>\n",
       "      <td>168</td>\n",
       "      <td>171</td>\n",
       "      <td>2</td>\n",
       "    </tr>\n",
       "    <tr>\n",
       "      <th>top</th>\n",
       "      <td>Real_1-Webpage</td>\n",
       "      <td>CNN’s Post-Debate Rigged Poll Busted…Here Are ...</td>\n",
       "      <td>We’re shocked — SHOCKED — to learn that CNN’s ...</td>\n",
       "      <td>http://eaglerising.com/36847/clinton-foundatio...</td>\n",
       "      <td>http://static.politico.com/da/f5/44342c424c68b...</td>\n",
       "      <td>Terresa Monroe-hamilton</td>\n",
       "      <td>http://politi.co</td>\n",
       "      <td>{'$date': 1474588800000}</td>\n",
       "      <td>https://www.youtube.com/embed/ji6pl5Vwrvk</td>\n",
       "      <td>http://static.politico.com/da/f5/44342c424c68b...</td>\n",
       "      <td>http://eaglerising.com/36847/clinton-foundatio...</td>\n",
       "      <td>{}</td>\n",
       "      <td>Real</td>\n",
       "    </tr>\n",
       "    <tr>\n",
       "      <th>freq</th>\n",
       "      <td>1</td>\n",
       "      <td>2</td>\n",
       "      <td>2</td>\n",
       "      <td>2</td>\n",
       "      <td>3</td>\n",
       "      <td>8</td>\n",
       "      <td>32</td>\n",
       "      <td>5</td>\n",
       "      <td>1</td>\n",
       "      <td>2</td>\n",
       "      <td>2</td>\n",
       "      <td>8</td>\n",
       "      <td>91</td>\n",
       "    </tr>\n",
       "  </tbody>\n",
       "</table>\n",
       "</div>"
      ],
      "text/plain": [
       "                    id                                              title  \\\n",
       "count              182                                                182   \n",
       "unique             182                                                178   \n",
       "top     Real_1-Webpage  CNN’s Post-Debate Rigged Poll Busted…Here Are ...   \n",
       "freq                 1                                                  2   \n",
       "\n",
       "                                                     text  \\\n",
       "count                                                 182   \n",
       "unique                                                178   \n",
       "top     We’re shocked — SHOCKED — to learn that CNN’s ...   \n",
       "freq                                                    2   \n",
       "\n",
       "                                                      url  \\\n",
       "count                                                 174   \n",
       "unique                                                171   \n",
       "top     http://eaglerising.com/36847/clinton-foundatio...   \n",
       "freq                                                    2   \n",
       "\n",
       "                                                  top_img  \\\n",
       "count                                                 172   \n",
       "unique                                                166   \n",
       "top     http://static.politico.com/da/f5/44342c424c68b...   \n",
       "freq                                                    3   \n",
       "\n",
       "                        authors            source              publish_date  \\\n",
       "count                       141               174                       133   \n",
       "unique                       90                28                       118   \n",
       "top     Terresa Monroe-hamilton  http://politi.co  {'$date': 1474588800000}   \n",
       "freq                          8                32                         5   \n",
       "\n",
       "                                           movies  \\\n",
       "count                                          25   \n",
       "unique                                         25   \n",
       "top     https://www.youtube.com/embed/ji6pl5Vwrvk   \n",
       "freq                                            1   \n",
       "\n",
       "                                                   images  \\\n",
       "count                                                 172   \n",
       "unique                                                169   \n",
       "top     http://static.politico.com/da/f5/44342c424c68b...   \n",
       "freq                                                    2   \n",
       "\n",
       "                                           canonical_link meta_data news_type  \n",
       "count                                                 170       182       182  \n",
       "unique                                                168       171         2  \n",
       "top     http://eaglerising.com/36847/clinton-foundatio...        {}      Real  \n",
       "freq                                                    2         8        91  "
      ]
     },
     "execution_count": 22,
     "metadata": {},
     "output_type": "execute_result"
    }
   ],
   "source": [
    "df.describe()"
   ]
  },
  {
   "cell_type": "markdown",
   "id": "6f57372e-8135-406b-b931-81a8d801f30e",
   "metadata": {},
   "source": [
    "From the original data, we retain only title, text, and news_type as variables of interest for our analysis, eliminating all other columns."
   ]
  },
  {
   "cell_type": "code",
   "execution_count": 24,
   "id": "5b52f320-10a5-4e5a-84f1-75fd574ff339",
   "metadata": {},
   "outputs": [],
   "source": [
    "df.drop(['id','url', 'top_img','authors','publish_date','canonical_link','meta_data','source','movies','images'],axis=1, inplace=True)"
   ]
  },
  {
   "cell_type": "code",
   "execution_count": 25,
   "id": "328d945b-180b-4983-8c10-6bdcfe06aa28",
   "metadata": {},
   "outputs": [
    {
     "data": {
      "text/html": [
       "<div>\n",
       "<style scoped>\n",
       "    .dataframe tbody tr th:only-of-type {\n",
       "        vertical-align: middle;\n",
       "    }\n",
       "\n",
       "    .dataframe tbody tr th {\n",
       "        vertical-align: top;\n",
       "    }\n",
       "\n",
       "    .dataframe thead th {\n",
       "        text-align: right;\n",
       "    }\n",
       "</style>\n",
       "<table border=\"1\" class=\"dataframe\">\n",
       "  <thead>\n",
       "    <tr style=\"text-align: right;\">\n",
       "      <th></th>\n",
       "      <th>title</th>\n",
       "      <th>text</th>\n",
       "      <th>news_type</th>\n",
       "    </tr>\n",
       "  </thead>\n",
       "  <tbody>\n",
       "    <tr>\n",
       "      <th>0</th>\n",
       "      <td>Another Terrorist Attack in NYC…Why Are we STI...</td>\n",
       "      <td>On Saturday, September 17 at 8:30 pm EST, an e...</td>\n",
       "      <td>Real</td>\n",
       "    </tr>\n",
       "    <tr>\n",
       "      <th>1</th>\n",
       "      <td>Donald Trump: Drugs a 'Very, Very Big Factor' ...</td>\n",
       "      <td>Less than a day after protests over the police...</td>\n",
       "      <td>Real</td>\n",
       "    </tr>\n",
       "  </tbody>\n",
       "</table>\n",
       "</div>"
      ],
      "text/plain": [
       "                                               title  \\\n",
       "0  Another Terrorist Attack in NYC…Why Are we STI...   \n",
       "1  Donald Trump: Drugs a 'Very, Very Big Factor' ...   \n",
       "\n",
       "                                                text news_type  \n",
       "0  On Saturday, September 17 at 8:30 pm EST, an e...      Real  \n",
       "1  Less than a day after protests over the police...      Real  "
      ]
     },
     "execution_count": 25,
     "metadata": {},
     "output_type": "execute_result"
    }
   ],
   "source": [
    "df.head(2)"
   ]
  },
  {
   "cell_type": "code",
   "execution_count": 26,
   "id": "b25da095-c0ad-4cf0-b666-32fc544291e6",
   "metadata": {},
   "outputs": [
    {
     "data": {
      "text/plain": [
       "title        0\n",
       "text         0\n",
       "news_type    0\n",
       "dtype: int64"
      ]
     },
     "execution_count": 26,
     "metadata": {},
     "output_type": "execute_result"
    }
   ],
   "source": [
    "df.isnull().sum()"
   ]
  },
  {
   "cell_type": "markdown",
   "id": "1e4f3112-ee35-4061-bc94-284bbbb7b50b",
   "metadata": {},
   "source": [
    "The dataset lacks null values in the text and news_type columns, which are of utmost importance to us."
   ]
  },
  {
   "cell_type": "markdown",
   "id": "550bf18d-5162-49bd-9833-d2f3ef0f202c",
   "metadata": {},
   "source": [
    "## EDA"
   ]
  },
  {
   "cell_type": "markdown",
   "id": "7220eee6-34b2-477b-910c-eba9e1cdf55c",
   "metadata": {},
   "source": [
    "### Preprocessing"
   ]
  },
  {
   "cell_type": "markdown",
   "id": "4a1e96c4-b9bc-403d-a7b3-ae1e6119a912",
   "metadata": {},
   "source": [
    "The `preprocess_text` function performs text preprocessing on the input text data. Here's what each step of the preprocessing function does:\n",
    "1. Ensure consistency by converting all text to lowercase.\n",
    "\n",
    "2. Eliminate any numerical digits from the text.\n",
    "\n",
    "3. Get rid of all punctuation marks in the text.\n",
    "\n",
    "4. Break down the text into individual words, stem each word, and filter out common English stopwords."
   ]
  },
  {
   "cell_type": "code",
   "execution_count": 31,
   "id": "97423cb3-1906-4dfa-a152-aa81b866109b",
   "metadata": {},
   "outputs": [],
   "source": [
    "# https://www.analyticsvidhya.com/blog/2021/06/text-preprocessing-in-nlp-with-python-codes/ solution found here\n",
    "\n",
    "ps = PorterStemmer()\n",
    "wst = WhitespaceTokenizer() \n",
    "\n",
    "def preprocess_text(text):\n",
    "    # Convert text to lowercase\n",
    "    text = text.lower()\n",
    "    \n",
    "    # Remove numbers\n",
    "    text = re.sub(r'\\d+', '', text)\n",
    "    \n",
    "    # Remove punctuation\n",
    "    text = text.translate(str.maketrans('', '', string.punctuation))\n",
    "    \n",
    "    # Tokenize text and remove stopwords\n",
    "    stop_words = set(stopwords.words('english'))\n",
    "    tokens = [ps.stem(word) for word in wst.tokenize(text) if word not in stop_words and word.isalpha()]\n",
    "    \n",
    "    return tokens\n"
   ]
  },
  {
   "cell_type": "markdown",
   "id": "4917c262-557a-484a-acd5-adce89571685",
   "metadata": {},
   "source": [
    "### Analysis of News Title"
   ]
  },
  {
   "cell_type": "markdown",
   "id": "f734fc14-ee03-4e7a-9270-164ff0b2ace9",
   "metadata": {},
   "source": [
    "The analysis of news article titles is conducted using the 'preprocess_text' function. Subsequently, the 20 most frequently occurring words in the titles of both real and fake news are identified. Lastly, a graph is generated to visually represent the frequency distribution of these words within each respective category."
   ]
  },
  {
   "cell_type": "markdown",
   "id": "2cb9cce7-80c9-405e-8943-87de457b075f",
   "metadata": {},
   "source": [
    "##### Fake News"
   ]
  },
  {
   "cell_type": "code",
   "execution_count": 35,
   "id": "8adeb1ce-6528-460e-b4f8-e04b1a1ed889",
   "metadata": {},
   "outputs": [],
   "source": [
    "# Filter the DataFrame to include only fake news\n",
    "df_fake = df[df['news_type'] == 'Fake']"
   ]
  },
  {
   "cell_type": "code",
   "execution_count": 36,
   "id": "e17c68b6-d89b-4976-a829-786e1e45ae40",
   "metadata": {},
   "outputs": [],
   "source": [
    "# https://towardsdatascience.com/basics-of-countvectorizer-e26677900f9c solution found here\n",
    "# Initialize CountVectorizer\n",
    "cv_fake_title = CountVectorizer(analyzer=preprocess_text)\n",
    "bow_fake_title = cv_fake_title.fit_transform(df_fake['title'])"
   ]
  },
  {
   "cell_type": "code",
   "execution_count": 37,
   "id": "53a1f6fb-6fae-4f97-b78a-ad58f460c87a",
   "metadata": {},
   "outputs": [],
   "source": [
    "# Get feature names and their frequencies directly from CountVectorizer\n",
    "feature_names_fake_title = cv_fake_title.get_feature_names_out()\n",
    "word_freq_fake_title = bow_fake_title.sum(axis=0).A1"
   ]
  },
  {
   "cell_type": "code",
   "execution_count": 38,
   "id": "eacc511e-ef35-4c1d-bd37-9973c80ab0f0",
   "metadata": {},
   "outputs": [],
   "source": [
    "# Sort the features by frequency\n",
    "top_words_indices_fake_title = word_freq_fake_title.argsort()[::-1][:20]\n",
    "top_words_fake_title = [feature_names_fake_title[i] for i in top_words_indices_fake_title]\n",
    "top_frequencies_fake_title = word_freq_fake_title[top_words_indices_fake_title]"
   ]
  },
  {
   "cell_type": "code",
   "execution_count": 39,
   "id": "093bc5ea-1943-47e5-b334-552249c34b5f",
   "metadata": {},
   "outputs": [],
   "source": [
    "# Create DataFrame for fake news top words\n",
    "top_fake_title_df = pd.DataFrame({'Word': top_words_fake_title, 'Frequency': top_frequencies_fake_title, 'Type': 'Fake'})"
   ]
  },
  {
   "cell_type": "markdown",
   "id": "51d150e6-d24f-4371-ae70-58087d8c173b",
   "metadata": {},
   "source": [
    "##### Real news"
   ]
  },
  {
   "cell_type": "code",
   "execution_count": 41,
   "id": "14b1e45b-fd3b-4139-94d8-7aec7312ba2b",
   "metadata": {},
   "outputs": [],
   "source": [
    "# Filter the DataFrame to include only real news\n",
    "df_real = df[df['news_type'] == 'Real']"
   ]
  },
  {
   "cell_type": "code",
   "execution_count": 42,
   "id": "e0deb2e0-8571-4c06-bce5-023e3e16a8f6",
   "metadata": {},
   "outputs": [],
   "source": [
    "# Initialize CountVectorizer for real news\n",
    "cv_real_title = CountVectorizer(analyzer=preprocess_text)\n",
    "bow_real_title = cv_real_title.fit_transform(df_real['title'])"
   ]
  },
  {
   "cell_type": "code",
   "execution_count": 43,
   "id": "e66f9969-72bc-471d-ad7d-c551e2db2411",
   "metadata": {},
   "outputs": [],
   "source": [
    "# Get feature names and their frequencies directly from CountVectorizer\n",
    "feature_names_real_title = cv_real_title.get_feature_names_out()\n",
    "word_freq_real_title = bow_real_title.sum(axis=0).A1"
   ]
  },
  {
   "cell_type": "code",
   "execution_count": 44,
   "id": "77bdbecb-8f41-4a38-af88-86e67a5b69cc",
   "metadata": {},
   "outputs": [],
   "source": [
    "# Sort the features by frequency\n",
    "top_words_indices_real_title = word_freq_real_title.argsort()[::-1][:20]\n",
    "top_words_real_title = [feature_names_real_title[i] for i in top_words_indices_real_title]\n",
    "top_frequencies_real_title = word_freq_real_title[top_words_indices_real_title]"
   ]
  },
  {
   "cell_type": "code",
   "execution_count": 45,
   "id": "7ee992ed-dd91-4bd6-9ffa-eacb38ad1f68",
   "metadata": {},
   "outputs": [],
   "source": [
    "# Create DataFrame for real news top words\n",
    "top_real_title_df = pd.DataFrame({'Word': top_words_real_title, 'Frequency': top_frequencies_real_title, 'Type': 'Real'})"
   ]
  },
  {
   "cell_type": "markdown",
   "id": "8230c9dc-2afb-4139-9e65-a8a247c055fc",
   "metadata": {},
   "source": [
    "##### Concatenation and Visualization"
   ]
  },
  {
   "cell_type": "code",
   "execution_count": 47,
   "id": "8ffca46f-44d0-4a0d-b0d1-ac500a33df1a",
   "metadata": {},
   "outputs": [],
   "source": [
    "top_news_title_df = pd.concat([top_fake_title_df, top_real_title_df])"
   ]
  },
  {
   "cell_type": "code",
   "execution_count": 48,
   "id": "1c0a0a12-f6c4-462b-a28b-27ed2f2b5eaa",
   "metadata": {},
   "outputs": [
    {
     "data": {
      "image/png": "[encoded data removed]",
      "text/plain": [
       "<Figure size 1000x1000 with 1 Axes>"
      ]
     },
     "metadata": {},
     "output_type": "display_data"
    }
   ],
   "source": [
    "# https://www.geeksforgeeks.org/plotting-graph-using-seaborn-python/ solution found here\n",
    "\n",
    "plt.figure(figsize=(10,10))\n",
    "sns.barplot(y='Word', x='Frequency', data=top_news_title_df, hue='Type', palette='colorblind')\n",
    "plt.xticks(rotation=90)\n",
    "plt.xlabel('Term Frequency of Words', fontsize=10)\n",
    "plt.ylabel('Top 20 Words in Titles', fontsize=10)\n",
    "plt.legend(title='News Type', fontsize=12)\n",
    "plt.title('Frequency of Words in the Title of News', fontsize=20)\n",
    "plt.show()"
   ]
  },
  {
   "cell_type": "markdown",
   "id": "6a98c33b-60ac-46fb-b9b6-f263d9adfc2c",
   "metadata": {},
   "source": [
    "Term Frequency Analysis shows different patterns in fake and real news titles. Fake news often mentions terms like \"Hillary,\" \"Clinton,\" \"freedom,\" and \"Obama,\" focusing on political figures. On the other hand, real news titles feature terms like \"Trump,\" \"Clinton,\" \"Donald,\" and \"debate,\" highlighting current events and political discussions related to the 2016 U.S. election. This difference in word usage indicates varying thematic priorities and narrative angles taken by news outlets, with fake news concentrating on political figures and real news emphasizing broader political discussions and events.  \n",
    "The dataset provides information about the main topics and content of news articles that were shared on Facebook before the 2016 U.S. election. The prominence of specific terms in fake and real news titles highlights possible biases and divisions in news reporting during the election period. Additional analysis, like sentiment analysis or topic modeling, could offer more detailed understanding of the emotions and themes present in the news articles."
   ]
  },
  {
   "cell_type": "markdown",
   "id": "46631780-2e2e-4f01-b91c-14867f15a61e",
   "metadata": {},
   "source": [
    "### Analysis of News Body"
   ]
  },
  {
   "cell_type": "markdown",
   "id": "374ef513-61fe-4752-9081-f95308731282",
   "metadata": {},
   "source": [
    "We now move on to analyzing the content of the news articles. Our focus is on identifying the top 50 significant words in both fake and real news articles. To do this, we use the \"preprocess_text\" function on the news article content, and then identify the 50 most common words in the news titles for both real and fake news. By plotting the term frequency of these words, we can visually compare the high-frequency words linked to fake and real news."
   ]
  },
  {
   "cell_type": "markdown",
   "id": "8681fac3-8c45-4a79-8f6d-bd667b61ccbf",
   "metadata": {},
   "source": [
    "##### Fake News"
   ]
  },
  {
   "cell_type": "code",
   "execution_count": 53,
   "id": "540ff10b-0d22-4cd4-a57d-cfd20f762783",
   "metadata": {},
   "outputs": [],
   "source": [
    "# Initialize CountVectorizer for fake news body\n",
    "cv_fake_body = CountVectorizer(analyzer=preprocess_text)\n",
    "bow_fake_body = cv_fake_body.fit_transform(df_fake['text'])"
   ]
  },
  {
   "cell_type": "code",
   "execution_count": 54,
   "id": "6466b4e6-5af6-4dad-a293-147e9487d8de",
   "metadata": {},
   "outputs": [],
   "source": [
    "# Get feature names and their frequencies directly from CountVectorizer\n",
    "feature_names_fake_body = cv_fake_body.get_feature_names_out()\n",
    "word_freq_fake_body = bow_fake_body.sum(axis=0).A1"
   ]
  },
  {
   "cell_type": "code",
   "execution_count": 55,
   "id": "3bd369f4-662e-417c-b1cc-f38bdc6dcf68",
   "metadata": {},
   "outputs": [],
   "source": [
    "# Sort the features by frequency\n",
    "top_words_indices_fake_body = word_freq_fake_body.argsort()[::-1][:50]\n",
    "top_words_fake_body = [feature_names_fake_body[i] for i in top_words_indices_fake_body]\n",
    "top_frequencies_fake_body = word_freq_fake_body[top_words_indices_fake_body]"
   ]
  },
  {
   "cell_type": "code",
   "execution_count": 56,
   "id": "7e95c4b5-0066-4363-8b4e-50aca4125ec5",
   "metadata": {},
   "outputs": [],
   "source": [
    "# Create DataFrame for top words in fake news body\n",
    "top_fake_body_df = pd.DataFrame({'Word': top_words_fake_body, 'Frequency': top_frequencies_fake_body, 'Type': 'Fake'})"
   ]
  },
  {
   "cell_type": "markdown",
   "id": "b14f775e-00bd-4b05-8ed4-43f56b8a086d",
   "metadata": {},
   "source": [
    "##### Real News"
   ]
  },
  {
   "cell_type": "code",
   "execution_count": 58,
   "id": "ab744232-0b99-47f9-b393-e3c480e0da95",
   "metadata": {},
   "outputs": [],
   "source": [
    "# Initialize CountVectorizer for real news body\n",
    "cv_real_body = CountVectorizer(analyzer=preprocess_text)\n",
    "bow_real_body = cv_real_body.fit_transform(df_real['text'])"
   ]
  },
  {
   "cell_type": "code",
   "execution_count": 59,
   "id": "939a1b8c-6840-46b6-b94c-6fbb89082661",
   "metadata": {},
   "outputs": [],
   "source": [
    "# Get feature names and their frequencies directly from CountVectorizer\n",
    "feature_names_real_body = cv_real_body.get_feature_names_out()\n",
    "word_freq_real_body = bow_real_body.sum(axis=0).A1"
   ]
  },
  {
   "cell_type": "code",
   "execution_count": 60,
   "id": "3d654676-f09f-40ef-ae6f-295833294231",
   "metadata": {},
   "outputs": [],
   "source": [
    "# Sort the features by frequency\n",
    "top_words_indices_real_body = word_freq_real_body.argsort()[::-1][:50]\n",
    "top_words_real_body = [feature_names_real_body[i] for i in top_words_indices_real_body]\n",
    "top_frequencies_real_body = word_freq_real_body[top_words_indices_real_body]"
   ]
  },
  {
   "cell_type": "code",
   "execution_count": 61,
   "id": "60576f11-fdc1-4e86-bb25-87f8d11cef5a",
   "metadata": {},
   "outputs": [],
   "source": [
    "# Create DataFrame for top words in real news body\n",
    "top_real_body_df = pd.DataFrame({'Word': top_words_real_body, 'Frequency': top_frequencies_real_body, 'Type': 'Real'})"
   ]
  },
  {
   "cell_type": "markdown",
   "id": "797857de-af91-48a1-a466-49fce150492d",
   "metadata": {},
   "source": [
    "##### Concatenation and Visualization"
   ]
  },
  {
   "cell_type": "code",
   "execution_count": 63,
   "id": "8aa050a4-25ba-467a-b63e-ff3615c7d216",
   "metadata": {},
   "outputs": [],
   "source": [
    "top_news_body_df = pd.concat([top_fake_body_df, top_real_body_df])"
   ]
  },
  {
   "cell_type": "code",
   "execution_count": 64,
   "id": "b73540d7-9da2-4bc6-906f-0414241c6ea5",
   "metadata": {},
   "outputs": [
    {
     "data": {
      "image/png": "[encoded data removed]",
      "text/plain": [
       "<Figure size 1000x2000 with 1 Axes>"
      ]
     },
     "metadata": {},
     "output_type": "display_data"
    }
   ],
   "source": [
    "plt.figure(figsize=(10,20))\n",
    "sns.barplot(y='Word', x='Frequency', data=top_news_body_df, hue='Type', palette='colorblind')\n",
    "plt.xticks(rotation=90)\n",
    "plt.xlabel('Term Frequency of Words', fontsize=10)\n",
    "plt.ylabel('Top 50 Words in Body', fontsize=10)\n",
    "plt.legend(title='News Type', fontsize=12)\n",
    "plt.title('Frequency of Words in the Body of News', fontsize=20)\n",
    "plt.show()"
   ]
  },
  {
   "cell_type": "markdown",
   "id": "8a76a81f-ec03-4cc2-a782-289b04e824bc",
   "metadata": {},
   "source": [
    "From the plot, it is evident that words such as \"Trump\" and \"Clinton\" dominate the frequency distribution in the news body. This suggests a significant focus on these political figures in the news articles. Furthermore, the term frequency analysis indicates distinct patterns between fake and real news. In fake news, terms like \"Clinton,\" \"Hillary,\" and \"Trump\" emerge as prominent, implying a strong bias towards political narratives involving these figures. Conversely, in real news, terms like \"Trump,\" \"said,\" and \"Clinton\" stand out, indicating a focus on factual reporting and discussions surrounding the statements made by political figures like Trump and Clinton.  \n",
    "Additionally, it is interesting to note that terms like \"Muslim\" and \"terrorist\" exclusively appear in fabricated news articles, indicating a potential trend of sensationalism or prejudiced reporting aimed at inciting fear or prejudice. This emphasizes the importance of critically evaluating news sources and being aware of potential biases, particularly when dealing with sensitive topics like religion and terrorism."
   ]
  },
  {
   "cell_type": "markdown",
   "id": "0ac83ab3-b776-42d9-8ce9-1217d4f7badf",
   "metadata": {},
   "source": [
    "### Analysis of Title Length"
   ]
  },
  {
   "cell_type": "markdown",
   "id": "79e02759-7450-4cba-be64-32acde6b0a18",
   "metadata": {},
   "source": [
    "We analyzed the words in the news title and body. Now we want to determine if the length of the title is also a distinguishing factor between fake and real news."
   ]
  },
  {
   "cell_type": "markdown",
   "id": "b11b97d7-c7c0-45d4-876c-83198e25337e",
   "metadata": {},
   "source": [
    "##### Fake News"
   ]
  },
  {
   "cell_type": "code",
   "execution_count": 69,
   "id": "40f4fe1b-1901-49f7-89f8-d25a86ae0a61",
   "metadata": {},
   "outputs": [],
   "source": [
    "df['title_length']=df['title'].apply(lambda x: len(x))"
   ]
  },
  {
   "cell_type": "code",
   "execution_count": 70,
   "id": "4b1b9090-5a62-4435-aca8-dcce490c8761",
   "metadata": {},
   "outputs": [
    {
     "data": {
      "image/png": "[encoded data removed]",
      "text/plain": [
       "<Figure size 1000x500 with 1 Axes>"
      ]
     },
     "metadata": {},
     "output_type": "display_data"
    }
   ],
   "source": [
    "# https://www.geeksforgeeks.org/seaborn-kdeplot-a-comprehensive-guide/ solution found here\n",
    "\n",
    "plt.figure(figsize=(10,5))\n",
    "sns.kdeplot(df[df['news_type']=='Real']['title_length'])\n",
    "sns.kdeplot(df[df['news_type']=='Fake']['title_length'])\n",
    "plt.xlabel('Title Length',fontsize=12)\n",
    "plt.ylabel('Density',fontsize=12)\n",
    "plt.legend(title='News Type',fontsize=10,labels=['Real','Fake'])\n",
    "plt.title('Distribution of Title Length for Real and Fake News',fontsize=15)\n",
    "plt.show()"
   ]
  },
  {
   "cell_type": "markdown",
   "id": "fd7db2cb-6f70-40ae-ae98-de8195e127b5",
   "metadata": {},
   "source": [
    "On average, fake news titles are a bit longer than real news titles. Real news titles usually have around 60 characters, showing a consistent pattern. However, fake news titles have a slight skewness, with the highest density around 80 characters. This difference in title length suggests that there may be variations in editorial styles or content emphasis between fake and real news articles."
   ]
  },
  {
   "cell_type": "markdown",
   "id": "00c036a6-ae46-4709-b846-a15186f097b0",
   "metadata": {},
   "source": [
    "## Fake/Real News Classification"
   ]
  },
  {
   "cell_type": "markdown",
   "id": "bfae9799-e12f-4425-a99c-127f454064bf",
   "metadata": {},
   "source": [
    "### Fake/Real News Detection Based on News Body"
   ]
  },
  {
   "cell_type": "markdown",
   "id": "d1e2410c-642c-4a10-8224-bb6eac33df11",
   "metadata": {},
   "source": [
    "In this part, we examine different machine learning methods to categorize news articles as either fake or real using only the content of the news body. First, we divide the dataset into training and testing sets. Then, we use Support Vector Machines, Naive Bayes classifiers, Random Forest Classifier, and Passive-Aggressive Classifiers to carry out the classification task."
   ]
  },
  {
   "cell_type": "markdown",
   "id": "72d8a43b-f4e6-419a-86e4-45b4b7496e83",
   "metadata": {},
   "source": [
    "#### Splitting Data into Train and Test Datasets"
   ]
  },
  {
   "cell_type": "code",
   "execution_count": 76,
   "id": "eafa8ff9-6508-4143-9b85-45575acb29d3",
   "metadata": {},
   "outputs": [],
   "source": [
    "# Splitting data into train and test datasets\n",
    "X_train, X_test, y_train, y_test = train_test_split(df['text'], df['news_type'], test_size=0.2, random_state=42)"
   ]
  },
  {
   "cell_type": "code",
   "execution_count": 77,
   "id": "bb189d7f-e1fe-4c42-81b7-4552c0be6aa9",
   "metadata": {},
   "outputs": [],
   "source": [
    "# Initialize CountVectorizer with preprocessing function\n",
    "cv = CountVectorizer(analyzer=preprocess_text)\n",
    "X_train_transformed = cv.fit_transform(X_train)\n",
    "X_test_transformed = cv.transform(X_test)"
   ]
  },
  {
   "cell_type": "markdown",
   "id": "d21529e6-6a7c-46d8-9e5e-77da76e3f461",
   "metadata": {},
   "source": [
    "#### Support Vector Machine"
   ]
  },
  {
   "cell_type": "code",
   "execution_count": 79,
   "id": "b3eae3bf-c479-4737-9baa-7ae43311df58",
   "metadata": {},
   "outputs": [],
   "source": [
    "# https://analyticsindiamag.com/understanding-the-basics-of-svm-with-example-and-python-implementation/ solution found here\n",
    "\n",
    "# Initialize Support Vector Machine classifier with linear kernel\n",
    "svm_model = SVC(kernel='linear')\n",
    "# Train the SVM model using the transformed training data\n",
    "svm_model.fit(X_train_transformed, y_train)\n",
    "# Use the trained SVM model to predict labels for the test data\n",
    "svm_pred = svm_model.predict(X_test_transformed)"
   ]
  },
  {
   "cell_type": "markdown",
   "id": "b67d6eae-8355-4248-88aa-6215ab5a043a",
   "metadata": {},
   "source": [
    "#### Naive Bayes Classifiers"
   ]
  },
  {
   "cell_type": "code",
   "execution_count": 81,
   "id": "1a7a7ccc-45cb-4ef3-b84b-7b5a7f5a7bfc",
   "metadata": {},
   "outputs": [],
   "source": [
    "# Initialize Naive Bayes classifier\n",
    "nb_model = MultinomialNB()\n",
    "# Train the Naive Bayes model using the transformed training data\n",
    "nb_model.fit(X_train_transformed, y_train)\n",
    "# Use the trained Naive Bayes model to predict labels for the test data\n",
    "nb_pred = nb_model.predict(X_test_transformed)"
   ]
  },
  {
   "cell_type": "markdown",
   "id": "e275791f-3838-407a-a253-a1ee50e82530",
   "metadata": {},
   "source": [
    "#### Random Forest Classifier"
   ]
  },
  {
   "cell_type": "code",
   "execution_count": 83,
   "id": "f5ea6261-11ee-4ec0-9c46-62dcc1af79e7",
   "metadata": {},
   "outputs": [],
   "source": [
    "# https://www.datacamp.com/tutorial/naive-bayes-scikit-learn solution found here\n",
    "\n",
    "# Initialize Random Forest classifier with 100 trees\n",
    "rf_model = RandomForestClassifier(n_estimators=100, random_state=42)\n",
    "# Train the Random Forest model using the transformed training data\n",
    "rf_model.fit(X_train_transformed, y_train)\n",
    "# Use the trained Random Forest model to predict labels for the test data\n",
    "rf_pred = rf_model.predict(X_test_transformed)"
   ]
  },
  {
   "cell_type": "markdown",
   "id": "a6e003cc-df5f-4082-87d0-b94e5092d642",
   "metadata": {},
   "source": [
    "#### Passive-Aggressive Classifiers"
   ]
  },
  {
   "cell_type": "code",
   "execution_count": 85,
   "id": "e3c37299-ca96-4bf3-b54c-6156a4b6ba46",
   "metadata": {},
   "outputs": [],
   "source": [
    "# https://www.geeksforgeeks.org/passive-aggressive-classifiers/ solution found here\n",
    "\n",
    "# Initialize Passive-Aggressive classifier with maximum iterations set to 1000\n",
    "pa_model = PassiveAggressiveClassifier(max_iter=1000, random_state=42)\n",
    "# Train the Passive-Aggressive model using the transformed training data\n",
    "pa_model.fit(X_train_transformed, y_train)\n",
    "# Use the trained Passive-Aggressive model to predict labels for the test data\n",
    "pa_pred = pa_model.predict(X_test_transformed)"
   ]
  },
  {
   "cell_type": "markdown",
   "id": "ef3868f1-1fd1-4b88-b4e3-84fe31e1051e",
   "metadata": {},
   "source": [
    "Evaluation"
   ]
  },
  {
   "cell_type": "code",
   "execution_count": 87,
   "id": "f931f38b-fcb4-4660-9d75-55af2d62768f",
   "metadata": {},
   "outputs": [],
   "source": [
    "# https://builtin.com/data-science/evaluating-classification-models solution found here\n",
    "\n",
    "# Evaluation\n",
    "def evaluate_model(y_true, y_pred):\n",
    "    accuracy = accuracy_score(y_true, y_pred)\n",
    "    precision = precision_score(y_true, y_pred, pos_label='Fake')\n",
    "    recall = recall_score(y_true, y_pred, pos_label='Fake')\n",
    "    f1 = f1_score(y_true, y_pred, pos_label='Fake')\n",
    "    print(\"Accuracy: {:.2f}\".format(accuracy))\n",
    "    print(\"Precision: {:.2f}\".format(precision))\n",
    "    print(\"Recall: {:.2f}\".format(recall))\n",
    "    print(\"F1-score: {:.2f}\".format(f1))"
   ]
  },
  {
   "cell_type": "code",
   "execution_count": 88,
   "id": "68b0b76f-7bfe-4461-a7ca-ab6dd902328b",
   "metadata": {},
   "outputs": [
    {
     "name": "stdout",
     "output_type": "stream",
     "text": [
      "Support Vector Machine:\n",
      "Accuracy: 0.81\n",
      "Precision: 0.82\n",
      "Recall: 0.78\n",
      "F1-score: 0.80\n",
      "\n",
      "Naive Bayes Classifier:\n",
      "Accuracy: 0.73\n",
      "Precision: 0.75\n",
      "Recall: 0.67\n",
      "F1-score: 0.71\n",
      "\n",
      "Random Forest Classifier:\n",
      "Accuracy: 0.78\n",
      "Precision: 0.81\n",
      "Recall: 0.72\n",
      "F1-score: 0.76\n",
      "\n",
      "Passive-Aggressive Classifier:\n",
      "Accuracy: 0.76\n",
      "Precision: 0.74\n",
      "Recall: 0.78\n",
      "F1-score: 0.76\n"
     ]
    }
   ],
   "source": [
    "print(\"Support Vector Machine:\")\n",
    "evaluate_model(y_test, svm_pred)\n",
    "\n",
    "print(\"\\nNaive Bayes Classifier:\")\n",
    "evaluate_model(y_test, nb_pred)\n",
    "\n",
    "print(\"\\nRandom Forest Classifier:\")\n",
    "evaluate_model(y_test, rf_pred)\n",
    "\n",
    "print(\"\\nPassive-Aggressive Classifier:\")\n",
    "evaluate_model(y_test, pa_pred)"
   ]
  },
  {
   "cell_type": "markdown",
   "id": "6e45b87a-9082-445d-8fd2-32759113753e",
   "metadata": {},
   "source": [
    "**SVM is the top performer, offering the highest accuracy and a well-balanced mix of precision and recall. Nevertheless, the other classifiers also demonstrate competitive performance, with different trade-offs between precision and recall.**"
   ]
  },
  {
   "cell_type": "markdown",
   "id": "b2985a7a-ff21-4b57-9a53-d639834e456a",
   "metadata": {},
   "source": [
    "### Fake/Real News Detection Based on News Title"
   ]
  },
  {
   "cell_type": "markdown",
   "id": "71f12c52-632b-4f0b-9476-cf1fb3e8f054",
   "metadata": {},
   "source": [
    "In this section, our main goal is to determine whether news articles are fake or real based solely on their titles. Just like before, we divide the data into training and testing datasets. Then, we employ Support Vector Machines, Naive Bayes classifiers, Random Forest Classifier, and Passive-Aggressive Classifiers to classify the articles."
   ]
  },
  {
   "cell_type": "markdown",
   "id": "6e5e9aed-f147-4e00-a8e7-47d7702d25c8",
   "metadata": {},
   "source": [
    "#### Splitting Data into Train and Test Datasets"
   ]
  },
  {
   "cell_type": "code",
   "execution_count": 93,
   "id": "54bd839a-a1b4-495c-8138-b51cbcb0a8f4",
   "metadata": {},
   "outputs": [],
   "source": [
    "# Splitting data into train and test datasets\n",
    "X_train, X_test, y_train, y_test = train_test_split(df['title'], df['news_type'], test_size=0.2, random_state=42)"
   ]
  },
  {
   "cell_type": "code",
   "execution_count": 94,
   "id": "b18875ab-00ae-4377-b5db-653808956b41",
   "metadata": {},
   "outputs": [],
   "source": [
    "# Initialize CountVectorizer with preprocessing function\n",
    "cv = CountVectorizer(analyzer=preprocess_text)\n",
    "X_train_transformed = cv.fit_transform(X_train)\n",
    "X_test_transformed = cv.transform(X_test)"
   ]
  },
  {
   "cell_type": "markdown",
   "id": "2640c82d-4d04-4db5-b482-0e7931b4e1f6",
   "metadata": {},
   "source": [
    "#### Support Vector Machine"
   ]
  },
  {
   "cell_type": "code",
   "execution_count": 96,
   "id": "4d8b0eec-ec6e-4d9e-9e94-0837bf23fa59",
   "metadata": {},
   "outputs": [],
   "source": [
    "# Initialize Support Vector Machine classifier with linear kernel\n",
    "svm_model = SVC(kernel='linear', random_state=42)\n",
    "# Train the SVM model using the transformed training data\n",
    "svm_model.fit(X_train_transformed, y_train)\n",
    "# Use the trained SVM model to predict labels for the test data\n",
    "svm_pred = svm_model.predict(X_test_transformed)"
   ]
  },
  {
   "cell_type": "markdown",
   "id": "22731c6b-4418-4a39-b051-2b382f8d41c6",
   "metadata": {},
   "source": [
    "#### Naive Bayes Classifiers"
   ]
  },
  {
   "cell_type": "code",
   "execution_count": 98,
   "id": "6e3762d4-3eb4-4a29-94bc-d1f3c8de780b",
   "metadata": {},
   "outputs": [],
   "source": [
    "# Initialize Naive Bayes classifier\n",
    "nb_model = MultinomialNB()\n",
    "# Train the Naive Bayes model using the transformed training data\n",
    "nb_model.fit(X_train_transformed, y_train)\n",
    "# Use the trained Naive Bayes model to predict labels for the test data\n",
    "nb_pred = nb_model.predict(X_test_transformed)"
   ]
  },
  {
   "cell_type": "markdown",
   "id": "81b2034e-8ab0-4cae-aacd-7d1595dd844b",
   "metadata": {},
   "source": [
    "#### Random Forest Classifier"
   ]
  },
  {
   "cell_type": "code",
   "execution_count": 100,
   "id": "a575adc7-ce14-434f-9636-bf8f245f2afe",
   "metadata": {},
   "outputs": [],
   "source": [
    "# Initialize Random Forest classifier with 100 trees\n",
    "rf_model = RandomForestClassifier(n_estimators=100, random_state=42)\n",
    "# Train the Random Forest model using the transformed training data\n",
    "rf_model.fit(X_train_transformed, y_train)\n",
    "# Use the trained Random Forest model to predict labels for the test data\n",
    "rf_pred = rf_model.predict(X_test_transformed)"
   ]
  },
  {
   "cell_type": "markdown",
   "id": "85acdb18-b1fa-4dc2-8193-7f705810abed",
   "metadata": {},
   "source": [
    "#### Passive-Aggressive Classifiers"
   ]
  },
  {
   "cell_type": "code",
   "execution_count": 102,
   "id": "eb2694fc-4c29-4c11-be21-b9f8558fde41",
   "metadata": {},
   "outputs": [],
   "source": [
    "# Initialize Passive-Aggressive classifier with maximum iterations set to 1000\n",
    "pa_model = PassiveAggressiveClassifier(max_iter=1000, random_state=42)\n",
    "# Train the Passive-Aggressive model using the transformed training data\n",
    "pa_model.fit(X_train_transformed, y_train)\n",
    "# Use the trained Passive-Aggressive model to predict labels for the test data\n",
    "pa_pred = pa_model.predict(X_test_transformed)"
   ]
  },
  {
   "cell_type": "markdown",
   "id": "099964ec-10e6-4b1f-a461-9e00de946ad2",
   "metadata": {},
   "source": [
    "#### Evaluation"
   ]
  },
  {
   "cell_type": "code",
   "execution_count": 104,
   "id": "cb61017d-4b3d-4ebf-8431-23133d7de255",
   "metadata": {},
   "outputs": [
    {
     "name": "stdout",
     "output_type": "stream",
     "text": [
      "Support Vector Machine:\n",
      "Accuracy: 0.54\n",
      "Precision: 0.53\n",
      "Recall: 0.50\n",
      "F1-score: 0.51\n",
      "\n",
      "Naive Bayes Classifier:\n",
      "Accuracy: 0.65\n",
      "Precision: 0.60\n",
      "Recall: 0.83\n",
      "F1-score: 0.70\n",
      "\n",
      "Random Forest Classifier:\n",
      "Accuracy: 0.62\n",
      "Precision: 0.75\n",
      "Recall: 0.33\n",
      "F1-score: 0.46\n",
      "\n",
      "Passive-Aggressive Classifier:\n",
      "Accuracy: 0.59\n",
      "Precision: 0.57\n",
      "Recall: 0.67\n",
      "F1-score: 0.62\n"
     ]
    }
   ],
   "source": [
    "print(\"Support Vector Machine:\")\n",
    "evaluate_model(y_test, svm_pred)\n",
    "\n",
    "print(\"\\nNaive Bayes Classifier:\")\n",
    "evaluate_model(y_test, nb_pred)\n",
    "\n",
    "print(\"\\nRandom Forest Classifier:\")\n",
    "evaluate_model(y_test, rf_pred)\n",
    "\n",
    "print(\"\\nPassive-Aggressive Classifier:\")\n",
    "evaluate_model(y_test, pa_pred)"
   ]
  },
  {
   "cell_type": "markdown",
   "id": "49d4b1e0-adbc-417c-ba67-1d2a9877beb5",
   "metadata": {},
   "source": [
    "**The classifiers' performance varied when analyzing news titles. The Naive Bayes Classifier had the highest accuracy at 65%, with a precision of 60% and recall of 83%, resulting in an F1-score of 70%. However, the Support Vector Machine and Passive-Aggressive Classifier achieved lower accuracies of 54% and 59% respectively. The Support Vector Machine and Passive-Aggressive Classifier had F1-scores of 51% and 62% respectively. The Random Forest Classifier had an accuracy of 62%, with a precision of 75% and a recall of 33%, resulting in an F1-score of 46%. Overall, although the Naive Bayes Classifier performed relatively well, the Support Vector Machine and Passive-Aggressive Classifier showed lower performance in classifying news titles as fake or real.**"
   ]
  },
  {
   "cell_type": "markdown",
   "id": "35e0e46f-4659-4da8-a65c-261c740d34c5",
   "metadata": {},
   "source": [
    "### Fake/Real News Detection Based on Both Body and Title of News"
   ]
  },
  {
   "cell_type": "markdown",
   "id": "be8733b0-5c80-4d8e-a70a-714e24ca7e30",
   "metadata": {},
   "source": [
    "This section involves combining information from both the news body and title to classify news articles as fake or real. We follow the same procedure of splitting the data into train and test sets and then implement Support Vector Machines, Naive Bayes classifiers, Random Forest Classifier, and Passive-Aggressive Classifiers to achieve classification based on combined features."
   ]
  },
  {
   "cell_type": "markdown",
   "id": "4c745374-512f-4b14-a0d6-a61050cc4169",
   "metadata": {},
   "source": [
    "#### Splitting Data into Train and Test Datasets"
   ]
  },
  {
   "cell_type": "code",
   "execution_count": 109,
   "id": "b8db7253-e9e9-4780-84aa-91fd10ce07a1",
   "metadata": {},
   "outputs": [],
   "source": [
    "# Concatenate title and body into a single feature\n",
    "df['text_combined'] = df['title'] + ' ' + df['text']"
   ]
  },
  {
   "cell_type": "code",
   "execution_count": 110,
   "id": "3334ac97-dc5d-4afc-8d88-c88202278721",
   "metadata": {},
   "outputs": [],
   "source": [
    "# Splitting data into train and test datasets\n",
    "X_train, X_test, y_train, y_test = train_test_split(df['text_combined'], df['news_type'], test_size=0.2, random_state=42)"
   ]
  },
  {
   "cell_type": "code",
   "execution_count": 111,
   "id": "e9c44eae-ef7a-4bc4-a5e9-c0595ade8fe9",
   "metadata": {},
   "outputs": [],
   "source": [
    "# Initialize CountVectorizer with preprocessing function\n",
    "cv = CountVectorizer(analyzer=preprocess_text)\n",
    "X_train_transformed = cv.fit_transform(X_train)\n",
    "X_test_transformed = cv.transform(X_test)"
   ]
  },
  {
   "cell_type": "markdown",
   "id": "fc88156e-8f4c-4681-81e8-2f111c841e6a",
   "metadata": {},
   "source": [
    "#### Support Vector Machine"
   ]
  },
  {
   "cell_type": "code",
   "execution_count": 113,
   "id": "90295ad4-b97a-4c1a-952b-58bb1f9dc072",
   "metadata": {},
   "outputs": [],
   "source": [
    "# Initialize Support Vector Machine classifier with a linear kernel and set random state for reproducibility\n",
    "svm_model = SVC(kernel='linear', random_state=42)\n",
    "# Train the SVM model using the transformed training data\n",
    "svm_model.fit(X_train_transformed, y_train)\n",
    "# Use the trained SVM model to predict labels for the test data\n",
    "svm_pred = svm_model.predict(X_test_transformed)"
   ]
  },
  {
   "cell_type": "markdown",
   "id": "6ac5adae-c941-44f8-968a-604bf230d357",
   "metadata": {},
   "source": [
    "#### Naive Bayes Classifiers"
   ]
  },
  {
   "cell_type": "code",
   "execution_count": 115,
   "id": "a6d83361-a1dd-4b1c-92cd-2494762cd72f",
   "metadata": {},
   "outputs": [],
   "source": [
    "# Initialize Naive Bayes classifier\n",
    "nb_model = MultinomialNB()\n",
    "# Train the Naive Bayes model using the transformed training data\n",
    "nb_model.fit(X_train_transformed, y_train)\n",
    "# Use the trained Naive Bayes model to predict labels for the test data\n",
    "nb_pred = nb_model.predict(X_test_transformed)"
   ]
  },
  {
   "cell_type": "markdown",
   "id": "a0a76318-a2f6-4089-bb50-0332a86f9838",
   "metadata": {},
   "source": [
    "#### Random Forest Classifier"
   ]
  },
  {
   "cell_type": "code",
   "execution_count": 117,
   "id": "38064163-2845-4ac1-8b0f-1252aa881896",
   "metadata": {},
   "outputs": [],
   "source": [
    "# Initialize Random Forest classifier with 100 trees and set random state for reproducibility\n",
    "rf_model = RandomForestClassifier(n_estimators=100, random_state=42)\n",
    "# Train the Random Forest model using the transformed training data\n",
    "rf_model.fit(X_train_transformed, y_train)\n",
    "# Use the trained Random Forest model to predict labels for the test data\n",
    "rf_pred = rf_model.predict(X_test_transformed)"
   ]
  },
  {
   "cell_type": "markdown",
   "id": "3e563101-aa15-4364-adbb-cece1e9f4072",
   "metadata": {},
   "source": [
    "#### Passive-Aggressive Classifiers"
   ]
  },
  {
   "cell_type": "code",
   "execution_count": 119,
   "id": "6dfa23fd-f8e1-44c3-a5f4-8d4bd561fffb",
   "metadata": {},
   "outputs": [],
   "source": [
    "# Initialize Passive-Aggressive classifier with maximum iterations set to 1000 and set random state for reproducibility\n",
    "pa_model = PassiveAggressiveClassifier(max_iter=1000, random_state=42)\n",
    "# Train the Passive-Aggressive model using the transformed training data\n",
    "pa_model.fit(X_train_transformed, y_train)\n",
    "# Use the trained Passive-Aggressive model to predict labels for the test data\n",
    "pa_pred = pa_model.predict(X_test_transformed)"
   ]
  },
  {
   "cell_type": "markdown",
   "id": "0c8241fa-7de5-4f58-8d87-aa59eb5cab3b",
   "metadata": {},
   "source": [
    "#### Evaluation"
   ]
  },
  {
   "cell_type": "code",
   "execution_count": 121,
   "id": "2dc43d57-2f7a-4f55-ad8e-efdbb3690bfa",
   "metadata": {},
   "outputs": [
    {
     "name": "stdout",
     "output_type": "stream",
     "text": [
      "Support Vector Machine:\n",
      "Accuracy: 0.81\n",
      "Precision: 0.87\n",
      "Recall: 0.72\n",
      "F1-score: 0.79\n",
      "\n",
      "Naive Bayes Classifier:\n",
      "Accuracy: 0.73\n",
      "Precision: 0.75\n",
      "Recall: 0.67\n",
      "F1-score: 0.71\n",
      "\n",
      "Random Forest Classifier:\n",
      "Accuracy: 0.78\n",
      "Precision: 0.78\n",
      "Recall: 0.78\n",
      "F1-score: 0.78\n",
      "\n",
      "Passive-Aggressive Classifier:\n",
      "Accuracy: 0.81\n",
      "Precision: 0.82\n",
      "Recall: 0.78\n",
      "F1-score: 0.80\n"
     ]
    }
   ],
   "source": [
    "print(\"Support Vector Machine:\")\n",
    "evaluate_model(y_test, svm_pred)\n",
    "\n",
    "print(\"\\nNaive Bayes Classifier:\")\n",
    "evaluate_model(y_test, nb_pred)\n",
    "\n",
    "print(\"\\nRandom Forest Classifier:\")\n",
    "evaluate_model(y_test, rf_pred)\n",
    "\n",
    "print(\"\\nPassive-Aggressive Classifier:\")\n",
    "evaluate_model(y_test, pa_pred)"
   ]
  },
  {
   "cell_type": "markdown",
   "id": "2b8fad35-22c7-4299-bb62-12a8bd747d8e",
   "metadata": {},
   "source": [
    "**The Support Vector Machine and Passive-Aggressive Classifier had the best accuracy and F1-score among the models. SVM and Passive-Aggressive Classifier both had an accuracy of 81%, with precision scores of 87% and 82%. The Naive Bayes Classifier had a slightly lower accuracy of 73%, while the Random Forest Classifier had an accuracy of 78%. In conclusion, SVM and Passive-Aggressive Classifier performed well in classifying news articles as fake or real based on their content.**"
   ]
  },
  {
   "cell_type": "markdown",
   "id": "80ec44a1-7adf-40b5-8ae7-0f2612b62111",
   "metadata": {},
   "source": [
    "## Conclusion"
   ]
  },
  {
   "cell_type": "markdown",
   "id": "3ec08c39-0b5c-462a-beb6-6f46171ed1f3",
   "metadata": {},
   "source": [
    "### Exploratory Data Analysis (EDA) Insights"
   ]
  },
  {
   "cell_type": "markdown",
   "id": "be45b965-75bc-46c1-b6d3-882bcaa9a2ea",
   "metadata": {},
   "source": [
    "- **Thematic Priorities:** The analysis of word frequencies in news titles showed that fake and real news have different thematic priorities. Fake news titles often highlighted political figures like \"Hillary\" and \"Clinton,\" suggesting a focus on exaggerated political stories. On the other hand, real news titles focused on broader political discussions and events, featuring terms like \"Trump\" and \"debate\" prominently.\n",
    "  \n",
    "- **Narrative Angles:** The presence of specific terms in fake and real news titles indicated that news outlets adopt different narrative angles. Fake news tended to focus on political figures, while real news concentrated on reporting facts and discussing statements made by political figures.\n",
    "\n",
    "- **Sensationalism and Prejudice:** Terms like \"Muslim\" and \"terrorist\" were exclusively associated with fabricated news articles, suggesting a potential trend of sensationalism or biased reporting aimed at provoking fear or prejudice. This emphasizes the importance of critically evaluating news sources, especially when it comes to sensitive topics.\n",
    "\n",
    "- **Editorial Styles:** Analysis of title lengths suggested variations in editorial styles or content emphasis between fake and real news articles. Fake news titles were slightly longer on average, possibly reflecting a tendency towards more sensational or attention-grabbing headlines.\n",
    "\n",
    "- **Consistency in Real News Titles:** Real news titles exhibited a consistent pattern of length, with the majority hovering around 60 characters. This consistency could imply a focus on clarity and conciseness in conveying news topics.\n",
    "\n"
   ]
  },
  {
   "cell_type": "markdown",
   "id": "fc6f9b54-698c-4226-90b6-3e55e705fa4a",
   "metadata": {},
   "source": [
    "### Machine Learning Classification Performance"
   ]
  },
  {
   "cell_type": "markdown",
   "id": "d72c0cda-34d9-47c8-b408-65cda97039a0",
   "metadata": {},
   "source": [
    "The evaluation of the machine learning classifiers for fake news detection yielded varying results based on different feature sets and classification approaches.\n",
    "\n",
    "1. **Fake/Real News Detection Based on News Body:**\n",
    "    - Support Vector Machine (SVM) exhibited the highest accuracy at 81%, with a balanced precision and recall (F1-score: 80%).\n",
    "    - Naive Bayes Classifier achieved an accuracy of 73%, with relatively lower precision and recall (F1-score: 71%).\n",
    "    - Random Forest Classifier and Passive-Aggressive Classifier performed moderately well, with accuracies of 78% and 76% respectively.\n",
    "\n",
    "2. **Fake/Real News Detection Based on News Title:**\n",
    "    - Naive Bayes Classifier showed the highest accuracy at 65%, with a notable precision-recall trade-off (F1-score: 70%).\n",
    "    - SVM and Passive-Aggressive Classifier had lower accuracies at 54% and 59% respectively, indicating challenges in classifying news based solely on titles.\n",
    "    - Random Forest Classifier exhibited an accuracy of 62% with a lower F1-score of 46%.\n",
    "\n",
    "3. **Fake/Real News Detection Based on Both Body and Title of News:**\n",
    "    - SVM and Passive-Aggressive Classifier demonstrated the highest accuracy at 81%, with robust precision and recall scores (F1-score: 79% and 80% respectively).\n",
    "    - Naive Bayes Classifier achieved an accuracy of 73% with a balanced precision-recall performance (F1-score: 71%).\n",
    "    - Random Forest Classifier maintained a reasonable accuracy of 78%, with consistent precision and recall (F1-score: 78%).\n",
    "  \n",
    "The results highlight how crucial it is to choose the right features and models when dealing with the challenging job of detecting fake news. Improving and experimenting with different feature engineering methods could boost the performance of classifiers, making social media news verification systems more efficient."
   ]
  },
  {
   "cell_type": "markdown",
   "id": "e9576d8f-fdbf-4f2b-9858-0c79fd2682fc",
   "metadata": {},
   "source": [
    "### Implications and Future Directions"
   ]
  },
  {
   "cell_type": "markdown",
   "id": "f1fbc849-d712-4dd7-b350-cdd850a7d5e6",
   "metadata": {},
   "source": [
    "#### Implications\n",
    "\n",
    "- **Media Literacy:** It is crucial to have media literacy skills to distinguish between fake and real news in today's fast-changing digital media world.\n",
    "\n",
    "- **Editorial Responsibility:** The differences in themes and editorial styles between fake and real news show how editorial choices can influence public opinions and stories.\n",
    "\n",
    "#### Future Directions\n",
    "\n",
    "- **Advanced Classification Techniques:** Future studies may investigate sophisticated classification methods like deep learning models or ensemble techniques to enhance the precision and resilience of fake news detection algorithms.\n",
    "\n",
    "- **Multimodal Analysis:** Incorporating extra elements like metadata, social media engagement metrics, or image analysis could boost the thoroughness and dependability of fake news detection systems\n",
    "\n",
    "- **Real-time Monitoring:** Implementing developed models for real-time monitoring of news feeds could assist in early identification and reduction of fake news spread, supporting the overall initiatives in fighting misinformation and upholding media integrity."
   ]
  },
  {
   "cell_type": "markdown",
   "id": "ce73bf40-8fa1-40e2-b00e-14b707411cbc",
   "metadata": {},
   "source": [
    "## References"
   ]
  },
  {
   "cell_type": "markdown",
   "id": "ad4e6fa0-f439-403a-9682-d1f9a97c9867",
   "metadata": {},
   "source": [
    "- Shu, K., Mahudeswaran, D., Wang, S., Lee, D., & Liu, H. (2018). FakeNewsNet: A Data Repository with News Content, Social Context and Dynamic Information for Studying Fake News on Social Media. arXiv:1809.01286.\n",
    "- Shu, K., Sliva, A., Wang, S., Tang, J., & Liu, H. (2017). Fake News Detection on Social Media: A Data Mining Perspective. ACM SIGKDD Explorations Newsletter, 19(1), 22-36.\n",
    "- Shu, K., Wang, S., & Liu, H. (2017). Exploiting Tri-Relationship for Fake News Detection. arXiv:1712.07709."
   ]
  }
 ],
 "metadata": {
  "kernelspec": {
   "display_name": "anaconda-panel-2023.05-py310",
   "language": "python",
   "name": "conda-env-anaconda-panel-2023.05-py310-py"
  },
  "language_info": {
   "codemirror_mode": {
    "name": "ipython",
    "version": 3
   },
   "file_extension": ".py",
   "mimetype": "text/x-python",
   "name": "python",
   "nbconvert_exporter": "python",
   "pygments_lexer": "ipython3",
   "version": "3.11.5"
  }
 },
 "nbformat": 4,
 "nbformat_minor": 5
}
